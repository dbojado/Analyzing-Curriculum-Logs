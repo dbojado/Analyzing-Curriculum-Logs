{
 "cells": [
  {
   "cell_type": "markdown",
   "metadata": {},
   "source": [
    "# Final Report: Analyzing Curriculum Logs"
   ]
  },
  {
   "cell_type": "markdown",
   "metadata": {},
   "source": [
    "## Goal\n",
    "\n",
    "Answer a list of questions for supervisor that need to be answered before the board meeting on Thursday morning."
   ]
  },
  {
   "cell_type": "markdown",
   "metadata": {},
   "source": [
    "### Import"
   ]
  },
  {
   "cell_type": "code",
   "execution_count": 1,
   "metadata": {},
   "outputs": [],
   "source": [
    "# Import libraries\n",
    "import pandas as pd\n",
    "import numpy as np\n",
    "import matplotlib.pyplot as plt\n",
    "import seaborn as sns\n",
    "from datetime import datetime\n",
    "from datetime import timedelta\n",
    "\n",
    "# Import acquire and prepare\n",
    "import acquire\n",
    "import prepare\n",
    "\n",
    "# Ignore warnings\n",
    "import warnings\n",
    "warnings.filterwarnings('ignore')"
   ]
  },
  {
   "cell_type": "markdown",
   "metadata": {},
   "source": [
    "### Acquire"
   ]
  },
  {
   "cell_type": "code",
   "execution_count": 2,
   "metadata": {},
   "outputs": [],
   "source": [
    "# Load currciculum access logs\n",
    "df_codeup_logs = acquire.get_codeup_data()\n",
    "\n",
    "# Load cohort data\n",
    "df_cohorts = acquire.get_cohort_data()"
   ]
  },
  {
   "cell_type": "code",
   "execution_count": 3,
   "metadata": {},
   "outputs": [
    {
     "name": "stdout",
     "output_type": "stream",
     "text": [
      "(719459, 6)\n"
     ]
    },
    {
     "data": {
      "text/html": [
       "<div>\n",
       "<style scoped>\n",
       "    .dataframe tbody tr th:only-of-type {\n",
       "        vertical-align: middle;\n",
       "    }\n",
       "\n",
       "    .dataframe tbody tr th {\n",
       "        vertical-align: top;\n",
       "    }\n",
       "\n",
       "    .dataframe thead th {\n",
       "        text-align: right;\n",
       "    }\n",
       "</style>\n",
       "<table border=\"1\" class=\"dataframe\">\n",
       "  <thead>\n",
       "    <tr style=\"text-align: right;\">\n",
       "      <th></th>\n",
       "      <th>date</th>\n",
       "      <th>time</th>\n",
       "      <th>page_viewed</th>\n",
       "      <th>user_id</th>\n",
       "      <th>cohort_id</th>\n",
       "      <th>ip</th>\n",
       "    </tr>\n",
       "  </thead>\n",
       "  <tbody>\n",
       "    <tr>\n",
       "      <th>0</th>\n",
       "      <td>2018-01-26</td>\n",
       "      <td>09:55:03</td>\n",
       "      <td>/</td>\n",
       "      <td>1</td>\n",
       "      <td>8.0</td>\n",
       "      <td>97.105.19.61</td>\n",
       "    </tr>\n",
       "    <tr>\n",
       "      <th>1</th>\n",
       "      <td>2018-01-26</td>\n",
       "      <td>09:56:02</td>\n",
       "      <td>java-ii</td>\n",
       "      <td>1</td>\n",
       "      <td>8.0</td>\n",
       "      <td>97.105.19.61</td>\n",
       "    </tr>\n",
       "    <tr>\n",
       "      <th>2</th>\n",
       "      <td>2018-01-26</td>\n",
       "      <td>09:56:05</td>\n",
       "      <td>java-ii/object-oriented-programming</td>\n",
       "      <td>1</td>\n",
       "      <td>8.0</td>\n",
       "      <td>97.105.19.61</td>\n",
       "    </tr>\n",
       "    <tr>\n",
       "      <th>3</th>\n",
       "      <td>2018-01-26</td>\n",
       "      <td>09:56:06</td>\n",
       "      <td>slides/object_oriented_programming</td>\n",
       "      <td>1</td>\n",
       "      <td>8.0</td>\n",
       "      <td>97.105.19.61</td>\n",
       "    </tr>\n",
       "    <tr>\n",
       "      <th>4</th>\n",
       "      <td>2018-01-26</td>\n",
       "      <td>09:56:24</td>\n",
       "      <td>javascript-i/conditionals</td>\n",
       "      <td>2</td>\n",
       "      <td>22.0</td>\n",
       "      <td>97.105.19.61</td>\n",
       "    </tr>\n",
       "  </tbody>\n",
       "</table>\n",
       "</div>"
      ],
      "text/plain": [
       "         date      time                          page_viewed  user_id  \\\n",
       "0  2018-01-26  09:55:03                                    /        1   \n",
       "1  2018-01-26  09:56:02                              java-ii        1   \n",
       "2  2018-01-26  09:56:05  java-ii/object-oriented-programming        1   \n",
       "3  2018-01-26  09:56:06   slides/object_oriented_programming        1   \n",
       "4  2018-01-26  09:56:24            javascript-i/conditionals        2   \n",
       "\n",
       "   cohort_id            ip  \n",
       "0        8.0  97.105.19.61  \n",
       "1        8.0  97.105.19.61  \n",
       "2        8.0  97.105.19.61  \n",
       "3        8.0  97.105.19.61  \n",
       "4       22.0  97.105.19.61  "
      ]
     },
     "execution_count": 3,
     "metadata": {},
     "output_type": "execute_result"
    }
   ],
   "source": [
    "# Currciculum Acccess Logs Dataset\n",
    "print(df_codeup_logs.shape)\n",
    "df_codeup_logs.head()"
   ]
  },
  {
   "cell_type": "code",
   "execution_count": 4,
   "metadata": {},
   "outputs": [
    {
     "name": "stdout",
     "output_type": "stream",
     "text": [
      "(46, 5)\n"
     ]
    },
    {
     "data": {
      "text/html": [
       "<div>\n",
       "<style scoped>\n",
       "    .dataframe tbody tr th:only-of-type {\n",
       "        vertical-align: middle;\n",
       "    }\n",
       "\n",
       "    .dataframe tbody tr th {\n",
       "        vertical-align: top;\n",
       "    }\n",
       "\n",
       "    .dataframe thead th {\n",
       "        text-align: right;\n",
       "    }\n",
       "</style>\n",
       "<table border=\"1\" class=\"dataframe\">\n",
       "  <thead>\n",
       "    <tr style=\"text-align: right;\">\n",
       "      <th></th>\n",
       "      <th>cohort_id</th>\n",
       "      <th>name</th>\n",
       "      <th>start_date</th>\n",
       "      <th>end_date</th>\n",
       "      <th>program_id</th>\n",
       "    </tr>\n",
       "  </thead>\n",
       "  <tbody>\n",
       "    <tr>\n",
       "      <th>0</th>\n",
       "      <td>1</td>\n",
       "      <td>Arches</td>\n",
       "      <td>2014-02-04</td>\n",
       "      <td>2014-04-22</td>\n",
       "      <td>1</td>\n",
       "    </tr>\n",
       "    <tr>\n",
       "      <th>1</th>\n",
       "      <td>2</td>\n",
       "      <td>Badlands</td>\n",
       "      <td>2014-06-04</td>\n",
       "      <td>2014-08-22</td>\n",
       "      <td>1</td>\n",
       "    </tr>\n",
       "    <tr>\n",
       "      <th>2</th>\n",
       "      <td>3</td>\n",
       "      <td>Carlsbad</td>\n",
       "      <td>2014-09-04</td>\n",
       "      <td>2014-11-05</td>\n",
       "      <td>1</td>\n",
       "    </tr>\n",
       "    <tr>\n",
       "      <th>3</th>\n",
       "      <td>4</td>\n",
       "      <td>Denali</td>\n",
       "      <td>2014-10-20</td>\n",
       "      <td>2015-01-18</td>\n",
       "      <td>1</td>\n",
       "    </tr>\n",
       "    <tr>\n",
       "      <th>4</th>\n",
       "      <td>5</td>\n",
       "      <td>Everglades</td>\n",
       "      <td>2014-11-18</td>\n",
       "      <td>2015-02-24</td>\n",
       "      <td>1</td>\n",
       "    </tr>\n",
       "    <tr>\n",
       "      <th>5</th>\n",
       "      <td>6</td>\n",
       "      <td>Franklin</td>\n",
       "      <td>2015-02-03</td>\n",
       "      <td>2015-05-26</td>\n",
       "      <td>1</td>\n",
       "    </tr>\n",
       "    <tr>\n",
       "      <th>6</th>\n",
       "      <td>7</td>\n",
       "      <td>Glacier</td>\n",
       "      <td>2015-06-05</td>\n",
       "      <td>2015-10-06</td>\n",
       "      <td>1</td>\n",
       "    </tr>\n",
       "    <tr>\n",
       "      <th>7</th>\n",
       "      <td>8</td>\n",
       "      <td>Hampton</td>\n",
       "      <td>2015-09-22</td>\n",
       "      <td>2016-02-06</td>\n",
       "      <td>1</td>\n",
       "    </tr>\n",
       "    <tr>\n",
       "      <th>8</th>\n",
       "      <td>9</td>\n",
       "      <td>Apollo</td>\n",
       "      <td>2015-03-30</td>\n",
       "      <td>2015-07-29</td>\n",
       "      <td>4</td>\n",
       "    </tr>\n",
       "    <tr>\n",
       "      <th>9</th>\n",
       "      <td>10</td>\n",
       "      <td>Balboa</td>\n",
       "      <td>2015-11-03</td>\n",
       "      <td>2016-03-11</td>\n",
       "      <td>4</td>\n",
       "    </tr>\n",
       "    <tr>\n",
       "      <th>10</th>\n",
       "      <td>11</td>\n",
       "      <td>Ike</td>\n",
       "      <td>2016-01-20</td>\n",
       "      <td>2016-05-12</td>\n",
       "      <td>1</td>\n",
       "    </tr>\n",
       "    <tr>\n",
       "      <th>11</th>\n",
       "      <td>12</td>\n",
       "      <td>Joshua</td>\n",
       "      <td>2016-03-08</td>\n",
       "      <td>2016-06-30</td>\n",
       "      <td>1</td>\n",
       "    </tr>\n",
       "    <tr>\n",
       "      <th>12</th>\n",
       "      <td>13</td>\n",
       "      <td>Kings</td>\n",
       "      <td>2016-05-23</td>\n",
       "      <td>2016-09-15</td>\n",
       "      <td>1</td>\n",
       "    </tr>\n",
       "    <tr>\n",
       "      <th>13</th>\n",
       "      <td>14</td>\n",
       "      <td>Lassen</td>\n",
       "      <td>2016-07-18</td>\n",
       "      <td>2016-11-10</td>\n",
       "      <td>1</td>\n",
       "    </tr>\n",
       "    <tr>\n",
       "      <th>14</th>\n",
       "      <td>15</td>\n",
       "      <td>Mammoth</td>\n",
       "      <td>2016-09-26</td>\n",
       "      <td>2017-02-02</td>\n",
       "      <td>2</td>\n",
       "    </tr>\n",
       "    <tr>\n",
       "      <th>15</th>\n",
       "      <td>16</td>\n",
       "      <td>Niagara</td>\n",
       "      <td>2016-10-26</td>\n",
       "      <td>2017-03-09</td>\n",
       "      <td>2</td>\n",
       "    </tr>\n",
       "    <tr>\n",
       "      <th>16</th>\n",
       "      <td>17</td>\n",
       "      <td>Olympic</td>\n",
       "      <td>2017-02-06</td>\n",
       "      <td>2017-05-25</td>\n",
       "      <td>1</td>\n",
       "    </tr>\n",
       "    <tr>\n",
       "      <th>17</th>\n",
       "      <td>18</td>\n",
       "      <td>Pinnacles</td>\n",
       "      <td>2017-03-27</td>\n",
       "      <td>2017-07-20</td>\n",
       "      <td>2</td>\n",
       "    </tr>\n",
       "    <tr>\n",
       "      <th>18</th>\n",
       "      <td>19</td>\n",
       "      <td>Quincy</td>\n",
       "      <td>2017-06-05</td>\n",
       "      <td>2017-09-22</td>\n",
       "      <td>1</td>\n",
       "    </tr>\n",
       "    <tr>\n",
       "      <th>19</th>\n",
       "      <td>20</td>\n",
       "      <td>Redwood</td>\n",
       "      <td>2017-07-31</td>\n",
       "      <td>2017-12-06</td>\n",
       "      <td>2</td>\n",
       "    </tr>\n",
       "    <tr>\n",
       "      <th>20</th>\n",
       "      <td>21</td>\n",
       "      <td>Sequoia</td>\n",
       "      <td>2017-09-27</td>\n",
       "      <td>2018-02-15</td>\n",
       "      <td>2</td>\n",
       "    </tr>\n",
       "    <tr>\n",
       "      <th>21</th>\n",
       "      <td>22</td>\n",
       "      <td>Teddy</td>\n",
       "      <td>2018-01-08</td>\n",
       "      <td>2018-05-17</td>\n",
       "      <td>2</td>\n",
       "    </tr>\n",
       "    <tr>\n",
       "      <th>22</th>\n",
       "      <td>23</td>\n",
       "      <td>Ulysses</td>\n",
       "      <td>2018-03-05</td>\n",
       "      <td>2018-07-19</td>\n",
       "      <td>2</td>\n",
       "    </tr>\n",
       "    <tr>\n",
       "      <th>23</th>\n",
       "      <td>24</td>\n",
       "      <td>Voyageurs</td>\n",
       "      <td>2018-05-29</td>\n",
       "      <td>2018-10-11</td>\n",
       "      <td>2</td>\n",
       "    </tr>\n",
       "    <tr>\n",
       "      <th>24</th>\n",
       "      <td>25</td>\n",
       "      <td>Wrangell</td>\n",
       "      <td>2018-07-23</td>\n",
       "      <td>2018-11-29</td>\n",
       "      <td>2</td>\n",
       "    </tr>\n",
       "    <tr>\n",
       "      <th>25</th>\n",
       "      <td>26</td>\n",
       "      <td>Xanadu</td>\n",
       "      <td>2018-09-17</td>\n",
       "      <td>2019-02-08</td>\n",
       "      <td>2</td>\n",
       "    </tr>\n",
       "    <tr>\n",
       "      <th>26</th>\n",
       "      <td>27</td>\n",
       "      <td>Yosemite</td>\n",
       "      <td>2018-11-05</td>\n",
       "      <td>2019-04-03</td>\n",
       "      <td>2</td>\n",
       "    </tr>\n",
       "    <tr>\n",
       "      <th>27</th>\n",
       "      <td>28</td>\n",
       "      <td>Staff</td>\n",
       "      <td>2014-02-04</td>\n",
       "      <td>2014-02-04</td>\n",
       "      <td>2</td>\n",
       "    </tr>\n",
       "    <tr>\n",
       "      <th>28</th>\n",
       "      <td>29</td>\n",
       "      <td>Zion</td>\n",
       "      <td>2019-01-22</td>\n",
       "      <td>2019-06-04</td>\n",
       "      <td>2</td>\n",
       "    </tr>\n",
       "    <tr>\n",
       "      <th>29</th>\n",
       "      <td>30</td>\n",
       "      <td>Ada</td>\n",
       "      <td>2019-02-04</td>\n",
       "      <td>2019-06-16</td>\n",
       "      <td>3</td>\n",
       "    </tr>\n",
       "    <tr>\n",
       "      <th>30</th>\n",
       "      <td>31</td>\n",
       "      <td>Andromeda</td>\n",
       "      <td>2019-03-18</td>\n",
       "      <td>2019-07-30</td>\n",
       "      <td>2</td>\n",
       "    </tr>\n",
       "    <tr>\n",
       "      <th>31</th>\n",
       "      <td>32</td>\n",
       "      <td>Betelgeuse</td>\n",
       "      <td>2019-05-28</td>\n",
       "      <td>2019-10-08</td>\n",
       "      <td>2</td>\n",
       "    </tr>\n",
       "    <tr>\n",
       "      <th>32</th>\n",
       "      <td>33</td>\n",
       "      <td>Ceres</td>\n",
       "      <td>2019-07-15</td>\n",
       "      <td>2019-12-11</td>\n",
       "      <td>2</td>\n",
       "    </tr>\n",
       "    <tr>\n",
       "      <th>33</th>\n",
       "      <td>34</td>\n",
       "      <td>Bayes</td>\n",
       "      <td>2019-08-19</td>\n",
       "      <td>2020-01-30</td>\n",
       "      <td>3</td>\n",
       "    </tr>\n",
       "    <tr>\n",
       "      <th>34</th>\n",
       "      <td>51</td>\n",
       "      <td>Deimos</td>\n",
       "      <td>2019-09-16</td>\n",
       "      <td>2020-02-27</td>\n",
       "      <td>2</td>\n",
       "    </tr>\n",
       "    <tr>\n",
       "      <th>35</th>\n",
       "      <td>52</td>\n",
       "      <td>Europa</td>\n",
       "      <td>2019-11-04</td>\n",
       "      <td>2020-04-17</td>\n",
       "      <td>2</td>\n",
       "    </tr>\n",
       "    <tr>\n",
       "      <th>36</th>\n",
       "      <td>53</td>\n",
       "      <td>Fortuna</td>\n",
       "      <td>2020-01-13</td>\n",
       "      <td>2020-06-23</td>\n",
       "      <td>2</td>\n",
       "    </tr>\n",
       "    <tr>\n",
       "      <th>37</th>\n",
       "      <td>55</td>\n",
       "      <td>Curie</td>\n",
       "      <td>2020-02-03</td>\n",
       "      <td>2020-07-07</td>\n",
       "      <td>3</td>\n",
       "    </tr>\n",
       "    <tr>\n",
       "      <th>38</th>\n",
       "      <td>56</td>\n",
       "      <td>Apex</td>\n",
       "      <td>2020-02-24</td>\n",
       "      <td>2020-07-29</td>\n",
       "      <td>2</td>\n",
       "    </tr>\n",
       "    <tr>\n",
       "      <th>39</th>\n",
       "      <td>57</td>\n",
       "      <td>Ganymede</td>\n",
       "      <td>2020-03-23</td>\n",
       "      <td>2020-08-20</td>\n",
       "      <td>2</td>\n",
       "    </tr>\n",
       "    <tr>\n",
       "      <th>40</th>\n",
       "      <td>58</td>\n",
       "      <td>Hyperion</td>\n",
       "      <td>2020-05-26</td>\n",
       "      <td>2020-11-10</td>\n",
       "      <td>2</td>\n",
       "    </tr>\n",
       "    <tr>\n",
       "      <th>41</th>\n",
       "      <td>59</td>\n",
       "      <td>Darden</td>\n",
       "      <td>2020-07-13</td>\n",
       "      <td>2021-01-12</td>\n",
       "      <td>3</td>\n",
       "    </tr>\n",
       "    <tr>\n",
       "      <th>42</th>\n",
       "      <td>60</td>\n",
       "      <td>Io</td>\n",
       "      <td>2020-07-20</td>\n",
       "      <td>2021-01-21</td>\n",
       "      <td>2</td>\n",
       "    </tr>\n",
       "    <tr>\n",
       "      <th>43</th>\n",
       "      <td>61</td>\n",
       "      <td>Bash</td>\n",
       "      <td>2020-07-20</td>\n",
       "      <td>2021-01-21</td>\n",
       "      <td>2</td>\n",
       "    </tr>\n",
       "    <tr>\n",
       "      <th>44</th>\n",
       "      <td>62</td>\n",
       "      <td>Jupiter</td>\n",
       "      <td>2020-09-21</td>\n",
       "      <td>2021-03-30</td>\n",
       "      <td>2</td>\n",
       "    </tr>\n",
       "    <tr>\n",
       "      <th>45</th>\n",
       "      <td>132</td>\n",
       "      <td>Kalypso</td>\n",
       "      <td>2020-11-02</td>\n",
       "      <td>2021-05-04</td>\n",
       "      <td>2</td>\n",
       "    </tr>\n",
       "  </tbody>\n",
       "</table>\n",
       "</div>"
      ],
      "text/plain": [
       "    cohort_id        name  start_date    end_date  program_id\n",
       "0           1      Arches  2014-02-04  2014-04-22           1\n",
       "1           2    Badlands  2014-06-04  2014-08-22           1\n",
       "2           3    Carlsbad  2014-09-04  2014-11-05           1\n",
       "3           4      Denali  2014-10-20  2015-01-18           1\n",
       "4           5  Everglades  2014-11-18  2015-02-24           1\n",
       "5           6    Franklin  2015-02-03  2015-05-26           1\n",
       "6           7     Glacier  2015-06-05  2015-10-06           1\n",
       "7           8     Hampton  2015-09-22  2016-02-06           1\n",
       "8           9      Apollo  2015-03-30  2015-07-29           4\n",
       "9          10      Balboa  2015-11-03  2016-03-11           4\n",
       "10         11         Ike  2016-01-20  2016-05-12           1\n",
       "11         12      Joshua  2016-03-08  2016-06-30           1\n",
       "12         13       Kings  2016-05-23  2016-09-15           1\n",
       "13         14      Lassen  2016-07-18  2016-11-10           1\n",
       "14         15     Mammoth  2016-09-26  2017-02-02           2\n",
       "15         16     Niagara  2016-10-26  2017-03-09           2\n",
       "16         17     Olympic  2017-02-06  2017-05-25           1\n",
       "17         18   Pinnacles  2017-03-27  2017-07-20           2\n",
       "18         19      Quincy  2017-06-05  2017-09-22           1\n",
       "19         20     Redwood  2017-07-31  2017-12-06           2\n",
       "20         21     Sequoia  2017-09-27  2018-02-15           2\n",
       "21         22       Teddy  2018-01-08  2018-05-17           2\n",
       "22         23     Ulysses  2018-03-05  2018-07-19           2\n",
       "23         24   Voyageurs  2018-05-29  2018-10-11           2\n",
       "24         25    Wrangell  2018-07-23  2018-11-29           2\n",
       "25         26      Xanadu  2018-09-17  2019-02-08           2\n",
       "26         27    Yosemite  2018-11-05  2019-04-03           2\n",
       "27         28       Staff  2014-02-04  2014-02-04           2\n",
       "28         29        Zion  2019-01-22  2019-06-04           2\n",
       "29         30         Ada  2019-02-04  2019-06-16           3\n",
       "30         31   Andromeda  2019-03-18  2019-07-30           2\n",
       "31         32  Betelgeuse  2019-05-28  2019-10-08           2\n",
       "32         33       Ceres  2019-07-15  2019-12-11           2\n",
       "33         34       Bayes  2019-08-19  2020-01-30           3\n",
       "34         51      Deimos  2019-09-16  2020-02-27           2\n",
       "35         52      Europa  2019-11-04  2020-04-17           2\n",
       "36         53     Fortuna  2020-01-13  2020-06-23           2\n",
       "37         55       Curie  2020-02-03  2020-07-07           3\n",
       "38         56        Apex  2020-02-24  2020-07-29           2\n",
       "39         57    Ganymede  2020-03-23  2020-08-20           2\n",
       "40         58    Hyperion  2020-05-26  2020-11-10           2\n",
       "41         59      Darden  2020-07-13  2021-01-12           3\n",
       "42         60          Io  2020-07-20  2021-01-21           2\n",
       "43         61        Bash  2020-07-20  2021-01-21           2\n",
       "44         62     Jupiter  2020-09-21  2021-03-30           2\n",
       "45        132     Kalypso  2020-11-02  2021-05-04           2"
      ]
     },
     "execution_count": 4,
     "metadata": {},
     "output_type": "execute_result"
    }
   ],
   "source": [
    "# Cohorts Dataset\n",
    "print(df_cohorts.shape)\n",
    "df_cohorts"
   ]
  },
  {
   "cell_type": "markdown",
   "metadata": {},
   "source": [
    "### Prepare"
   ]
  },
  {
   "cell_type": "code",
   "execution_count": 5,
   "metadata": {},
   "outputs": [],
   "source": [
    "# Load merged data sets\n",
    "df_merged = prepare.prep_codeup_data()"
   ]
  },
  {
   "cell_type": "code",
   "execution_count": 6,
   "metadata": {},
   "outputs": [
    {
     "name": "stdout",
     "output_type": "stream",
     "text": [
      "(559194, 9)\n"
     ]
    },
    {
     "data": {
      "text/html": [
       "<div>\n",
       "<style scoped>\n",
       "    .dataframe tbody tr th:only-of-type {\n",
       "        vertical-align: middle;\n",
       "    }\n",
       "\n",
       "    .dataframe tbody tr th {\n",
       "        vertical-align: top;\n",
       "    }\n",
       "\n",
       "    .dataframe thead th {\n",
       "        text-align: right;\n",
       "    }\n",
       "</style>\n",
       "<table border=\"1\" class=\"dataframe\">\n",
       "  <thead>\n",
       "    <tr style=\"text-align: right;\">\n",
       "      <th></th>\n",
       "      <th>page_viewed</th>\n",
       "      <th>user_id</th>\n",
       "      <th>cohort_id</th>\n",
       "      <th>ip</th>\n",
       "      <th>ip_int</th>\n",
       "      <th>cohort_name</th>\n",
       "      <th>start_date</th>\n",
       "      <th>end_date</th>\n",
       "      <th>program_id</th>\n",
       "    </tr>\n",
       "  </thead>\n",
       "  <tbody>\n",
       "    <tr>\n",
       "      <th>2018-01-26 09:56:02</th>\n",
       "      <td>java-ii</td>\n",
       "      <td>1</td>\n",
       "      <td>8</td>\n",
       "      <td>97.105.19.61</td>\n",
       "      <td>971051961</td>\n",
       "      <td>Hampton</td>\n",
       "      <td>2015-09-22</td>\n",
       "      <td>2016-02-06</td>\n",
       "      <td>1.0</td>\n",
       "    </tr>\n",
       "    <tr>\n",
       "      <th>2018-01-26 09:56:05</th>\n",
       "      <td>java-ii/object-oriented-programming</td>\n",
       "      <td>1</td>\n",
       "      <td>8</td>\n",
       "      <td>97.105.19.61</td>\n",
       "      <td>971051961</td>\n",
       "      <td>Hampton</td>\n",
       "      <td>2015-09-22</td>\n",
       "      <td>2016-02-06</td>\n",
       "      <td>1.0</td>\n",
       "    </tr>\n",
       "    <tr>\n",
       "      <th>2018-01-26 09:56:06</th>\n",
       "      <td>slides/object_oriented_programming</td>\n",
       "      <td>1</td>\n",
       "      <td>8</td>\n",
       "      <td>97.105.19.61</td>\n",
       "      <td>971051961</td>\n",
       "      <td>Hampton</td>\n",
       "      <td>2015-09-22</td>\n",
       "      <td>2016-02-06</td>\n",
       "      <td>1.0</td>\n",
       "    </tr>\n",
       "    <tr>\n",
       "      <th>2018-01-26 09:56:24</th>\n",
       "      <td>javascript-i/conditionals</td>\n",
       "      <td>2</td>\n",
       "      <td>22</td>\n",
       "      <td>97.105.19.61</td>\n",
       "      <td>971051961</td>\n",
       "      <td>Teddy</td>\n",
       "      <td>2018-01-08</td>\n",
       "      <td>2018-05-17</td>\n",
       "      <td>2.0</td>\n",
       "    </tr>\n",
       "    <tr>\n",
       "      <th>2018-01-26 09:56:41</th>\n",
       "      <td>javascript-i/loops</td>\n",
       "      <td>2</td>\n",
       "      <td>22</td>\n",
       "      <td>97.105.19.61</td>\n",
       "      <td>971051961</td>\n",
       "      <td>Teddy</td>\n",
       "      <td>2018-01-08</td>\n",
       "      <td>2018-05-17</td>\n",
       "      <td>2.0</td>\n",
       "    </tr>\n",
       "  </tbody>\n",
       "</table>\n",
       "</div>"
      ],
      "text/plain": [
       "                                             page_viewed  user_id  cohort_id  \\\n",
       "2018-01-26 09:56:02                              java-ii        1          8   \n",
       "2018-01-26 09:56:05  java-ii/object-oriented-programming        1          8   \n",
       "2018-01-26 09:56:06   slides/object_oriented_programming        1          8   \n",
       "2018-01-26 09:56:24            javascript-i/conditionals        2         22   \n",
       "2018-01-26 09:56:41                   javascript-i/loops        2         22   \n",
       "\n",
       "                               ip     ip_int cohort_name start_date  \\\n",
       "2018-01-26 09:56:02  97.105.19.61  971051961     Hampton 2015-09-22   \n",
       "2018-01-26 09:56:05  97.105.19.61  971051961     Hampton 2015-09-22   \n",
       "2018-01-26 09:56:06  97.105.19.61  971051961     Hampton 2015-09-22   \n",
       "2018-01-26 09:56:24  97.105.19.61  971051961       Teddy 2018-01-08   \n",
       "2018-01-26 09:56:41  97.105.19.61  971051961       Teddy 2018-01-08   \n",
       "\n",
       "                      end_date  program_id  \n",
       "2018-01-26 09:56:02 2016-02-06         1.0  \n",
       "2018-01-26 09:56:05 2016-02-06         1.0  \n",
       "2018-01-26 09:56:06 2016-02-06         1.0  \n",
       "2018-01-26 09:56:24 2018-05-17         2.0  \n",
       "2018-01-26 09:56:41 2018-05-17         2.0  "
      ]
     },
     "execution_count": 6,
     "metadata": {},
     "output_type": "execute_result"
    }
   ],
   "source": [
    "# Merged Dataset\n",
    "print(df_merged.shape)\n",
    "df_merged.head()"
   ]
  },
  {
   "cell_type": "code",
   "execution_count": 7,
   "metadata": {},
   "outputs": [
    {
     "name": "stdout",
     "output_type": "stream",
     "text": [
      "<class 'pandas.core.frame.DataFrame'>\n",
      "DatetimeIndex: 559194 entries, 2018-01-26 09:56:02 to 2020-11-02 16:48:47\n",
      "Data columns (total 9 columns):\n",
      " #   Column       Non-Null Count   Dtype         \n",
      "---  ------       --------------   -----         \n",
      " 0   page_viewed  559193 non-null  object        \n",
      " 1   user_id      559194 non-null  int64         \n",
      " 2   cohort_id    559194 non-null  int64         \n",
      " 3   ip           559194 non-null  object        \n",
      " 4   ip_int       559194 non-null  int64         \n",
      " 5   cohort_name  522272 non-null  object        \n",
      " 6   start_date   522272 non-null  datetime64[ns]\n",
      " 7   end_date     522272 non-null  datetime64[ns]\n",
      " 8   program_id   522272 non-null  float64       \n",
      "dtypes: datetime64[ns](2), float64(1), int64(3), object(3)\n",
      "memory usage: 42.7+ MB\n"
     ]
    }
   ],
   "source": [
    "df_merged.info()"
   ]
  },
  {
   "cell_type": "code",
   "execution_count": 8,
   "metadata": {},
   "outputs": [
    {
     "data": {
      "text/html": [
       "<div>\n",
       "<style scoped>\n",
       "    .dataframe tbody tr th:only-of-type {\n",
       "        vertical-align: middle;\n",
       "    }\n",
       "\n",
       "    .dataframe tbody tr th {\n",
       "        vertical-align: top;\n",
       "    }\n",
       "\n",
       "    .dataframe thead th {\n",
       "        text-align: right;\n",
       "    }\n",
       "</style>\n",
       "<table border=\"1\" class=\"dataframe\">\n",
       "  <thead>\n",
       "    <tr style=\"text-align: right;\">\n",
       "      <th></th>\n",
       "      <th>user_id</th>\n",
       "      <th>cohort_id</th>\n",
       "      <th>ip_int</th>\n",
       "      <th>program_id</th>\n",
       "    </tr>\n",
       "  </thead>\n",
       "  <tbody>\n",
       "    <tr>\n",
       "      <th>count</th>\n",
       "      <td>559194.000000</td>\n",
       "      <td>559194.000000</td>\n",
       "      <td>5.591940e+05</td>\n",
       "      <td>522272.000000</td>\n",
       "    </tr>\n",
       "    <tr>\n",
       "      <th>mean</th>\n",
       "      <td>406.029598</td>\n",
       "      <td>35.242499</td>\n",
       "      <td>1.470028e+10</td>\n",
       "      <td>2.049063</td>\n",
       "    </tr>\n",
       "    <tr>\n",
       "      <th>std</th>\n",
       "      <td>203.927807</td>\n",
       "      <td>17.546714</td>\n",
       "      <td>3.818664e+10</td>\n",
       "      <td>0.385684</td>\n",
       "    </tr>\n",
       "    <tr>\n",
       "      <th>min</th>\n",
       "      <td>1.000000</td>\n",
       "      <td>0.000000</td>\n",
       "      <td>6.625790e+05</td>\n",
       "      <td>1.000000</td>\n",
       "    </tr>\n",
       "    <tr>\n",
       "      <th>25%</th>\n",
       "      <td>259.000000</td>\n",
       "      <td>24.000000</td>\n",
       "      <td>9.710520e+08</td>\n",
       "      <td>2.000000</td>\n",
       "    </tr>\n",
       "    <tr>\n",
       "      <th>50%</th>\n",
       "      <td>422.000000</td>\n",
       "      <td>32.000000</td>\n",
       "      <td>9.710520e+08</td>\n",
       "      <td>2.000000</td>\n",
       "    </tr>\n",
       "    <tr>\n",
       "      <th>75%</th>\n",
       "      <td>576.000000</td>\n",
       "      <td>53.000000</td>\n",
       "      <td>6.711113e+09</td>\n",
       "      <td>2.000000</td>\n",
       "    </tr>\n",
       "    <tr>\n",
       "      <th>max</th>\n",
       "      <td>786.000000</td>\n",
       "      <td>62.000000</td>\n",
       "      <td>2.212292e+11</td>\n",
       "      <td>4.000000</td>\n",
       "    </tr>\n",
       "  </tbody>\n",
       "</table>\n",
       "</div>"
      ],
      "text/plain": [
       "             user_id      cohort_id        ip_int     program_id\n",
       "count  559194.000000  559194.000000  5.591940e+05  522272.000000\n",
       "mean      406.029598      35.242499  1.470028e+10       2.049063\n",
       "std       203.927807      17.546714  3.818664e+10       0.385684\n",
       "min         1.000000       0.000000  6.625790e+05       1.000000\n",
       "25%       259.000000      24.000000  9.710520e+08       2.000000\n",
       "50%       422.000000      32.000000  9.710520e+08       2.000000\n",
       "75%       576.000000      53.000000  6.711113e+09       2.000000\n",
       "max       786.000000      62.000000  2.212292e+11       4.000000"
      ]
     },
     "execution_count": 8,
     "metadata": {},
     "output_type": "execute_result"
    }
   ],
   "source": [
    "df_merged.describe() "
   ]
  },
  {
   "cell_type": "code",
   "execution_count": 9,
   "metadata": {},
   "outputs": [
    {
     "data": {
      "text/plain": [
       "page_viewed    1718\n",
       "user_id         761\n",
       "cohort_id        39\n",
       "ip             3787\n",
       "ip_int         3787\n",
       "cohort_name      38\n",
       "start_date       38\n",
       "end_date         38\n",
       "program_id        4\n",
       "dtype: int64"
      ]
     },
     "execution_count": 9,
     "metadata": {},
     "output_type": "execute_result"
    }
   ],
   "source": [
    "df_merged.nunique() "
   ]
  },
  {
   "cell_type": "code",
   "execution_count": 10,
   "metadata": {},
   "outputs": [
    {
     "data": {
      "image/png": "[encoded data removed]",
      "text/plain": [
       "<Figure size 1080x720 with 4 Axes>"
      ]
     },
     "metadata": {
      "needs_background": "light"
     },
     "output_type": "display_data"
    }
   ],
   "source": [
    "df_merged.hist(figsize=(15, 10),\n",
    "            color='deepskyblue',\n",
    "            ec='black',\n",
    "            grid=True,\n",
    "            bins=25);"
   ]
  },
  {
   "cell_type": "code",
   "execution_count": 11,
   "metadata": {},
   "outputs": [],
   "source": [
    "# Create seperate dataframes for Web Development and Data Science programs\n",
    "WD = df_merged[df_merged.program_id != 3]\n",
    "DS = df_merged[df_merged.program_id == 3]"
   ]
  },
  {
   "cell_type": "code",
   "execution_count": 12,
   "metadata": {},
   "outputs": [
    {
     "data": {
      "text/html": [
       "<div>\n",
       "<style scoped>\n",
       "    .dataframe tbody tr th:only-of-type {\n",
       "        vertical-align: middle;\n",
       "    }\n",
       "\n",
       "    .dataframe tbody tr th {\n",
       "        vertical-align: top;\n",
       "    }\n",
       "\n",
       "    .dataframe thead th {\n",
       "        text-align: right;\n",
       "    }\n",
       "</style>\n",
       "<table border=\"1\" class=\"dataframe\">\n",
       "  <thead>\n",
       "    <tr style=\"text-align: right;\">\n",
       "      <th></th>\n",
       "      <th>page_viewed</th>\n",
       "      <th>user_id</th>\n",
       "      <th>cohort_id</th>\n",
       "      <th>ip</th>\n",
       "      <th>ip_int</th>\n",
       "      <th>cohort_name</th>\n",
       "      <th>start_date</th>\n",
       "      <th>end_date</th>\n",
       "      <th>program_id</th>\n",
       "    </tr>\n",
       "  </thead>\n",
       "  <tbody>\n",
       "    <tr>\n",
       "      <th>2018-01-26 09:56:02</th>\n",
       "      <td>java-ii</td>\n",
       "      <td>1</td>\n",
       "      <td>8</td>\n",
       "      <td>97.105.19.61</td>\n",
       "      <td>971051961</td>\n",
       "      <td>Hampton</td>\n",
       "      <td>2015-09-22</td>\n",
       "      <td>2016-02-06</td>\n",
       "      <td>1.0</td>\n",
       "    </tr>\n",
       "    <tr>\n",
       "      <th>2018-01-26 09:56:05</th>\n",
       "      <td>java-ii/object-oriented-programming</td>\n",
       "      <td>1</td>\n",
       "      <td>8</td>\n",
       "      <td>97.105.19.61</td>\n",
       "      <td>971051961</td>\n",
       "      <td>Hampton</td>\n",
       "      <td>2015-09-22</td>\n",
       "      <td>2016-02-06</td>\n",
       "      <td>1.0</td>\n",
       "    </tr>\n",
       "    <tr>\n",
       "      <th>2018-01-26 09:56:06</th>\n",
       "      <td>slides/object_oriented_programming</td>\n",
       "      <td>1</td>\n",
       "      <td>8</td>\n",
       "      <td>97.105.19.61</td>\n",
       "      <td>971051961</td>\n",
       "      <td>Hampton</td>\n",
       "      <td>2015-09-22</td>\n",
       "      <td>2016-02-06</td>\n",
       "      <td>1.0</td>\n",
       "    </tr>\n",
       "    <tr>\n",
       "      <th>2018-01-26 09:56:24</th>\n",
       "      <td>javascript-i/conditionals</td>\n",
       "      <td>2</td>\n",
       "      <td>22</td>\n",
       "      <td>97.105.19.61</td>\n",
       "      <td>971051961</td>\n",
       "      <td>Teddy</td>\n",
       "      <td>2018-01-08</td>\n",
       "      <td>2018-05-17</td>\n",
       "      <td>2.0</td>\n",
       "    </tr>\n",
       "    <tr>\n",
       "      <th>2018-01-26 09:56:41</th>\n",
       "      <td>javascript-i/loops</td>\n",
       "      <td>2</td>\n",
       "      <td>22</td>\n",
       "      <td>97.105.19.61</td>\n",
       "      <td>971051961</td>\n",
       "      <td>Teddy</td>\n",
       "      <td>2018-01-08</td>\n",
       "      <td>2018-05-17</td>\n",
       "      <td>2.0</td>\n",
       "    </tr>\n",
       "  </tbody>\n",
       "</table>\n",
       "</div>"
      ],
      "text/plain": [
       "                                             page_viewed  user_id  cohort_id  \\\n",
       "2018-01-26 09:56:02                              java-ii        1          8   \n",
       "2018-01-26 09:56:05  java-ii/object-oriented-programming        1          8   \n",
       "2018-01-26 09:56:06   slides/object_oriented_programming        1          8   \n",
       "2018-01-26 09:56:24            javascript-i/conditionals        2         22   \n",
       "2018-01-26 09:56:41                   javascript-i/loops        2         22   \n",
       "\n",
       "                               ip     ip_int cohort_name start_date  \\\n",
       "2018-01-26 09:56:02  97.105.19.61  971051961     Hampton 2015-09-22   \n",
       "2018-01-26 09:56:05  97.105.19.61  971051961     Hampton 2015-09-22   \n",
       "2018-01-26 09:56:06  97.105.19.61  971051961     Hampton 2015-09-22   \n",
       "2018-01-26 09:56:24  97.105.19.61  971051961       Teddy 2018-01-08   \n",
       "2018-01-26 09:56:41  97.105.19.61  971051961       Teddy 2018-01-08   \n",
       "\n",
       "                      end_date  program_id  \n",
       "2018-01-26 09:56:02 2016-02-06         1.0  \n",
       "2018-01-26 09:56:05 2016-02-06         1.0  \n",
       "2018-01-26 09:56:06 2016-02-06         1.0  \n",
       "2018-01-26 09:56:24 2018-05-17         2.0  \n",
       "2018-01-26 09:56:41 2018-05-17         2.0  "
      ]
     },
     "execution_count": 12,
     "metadata": {},
     "output_type": "execute_result"
    }
   ],
   "source": [
    "WD.head()"
   ]
  },
  {
   "cell_type": "code",
   "execution_count": 13,
   "metadata": {},
   "outputs": [
    {
     "data": {
      "text/html": [
       "<div>\n",
       "<style scoped>\n",
       "    .dataframe tbody tr th:only-of-type {\n",
       "        vertical-align: middle;\n",
       "    }\n",
       "\n",
       "    .dataframe tbody tr th {\n",
       "        vertical-align: top;\n",
       "    }\n",
       "\n",
       "    .dataframe thead th {\n",
       "        text-align: right;\n",
       "    }\n",
       "</style>\n",
       "<table border=\"1\" class=\"dataframe\">\n",
       "  <thead>\n",
       "    <tr style=\"text-align: right;\">\n",
       "      <th></th>\n",
       "      <th>page_viewed</th>\n",
       "      <th>user_id</th>\n",
       "      <th>cohort_id</th>\n",
       "      <th>ip</th>\n",
       "      <th>ip_int</th>\n",
       "      <th>cohort_name</th>\n",
       "      <th>start_date</th>\n",
       "      <th>end_date</th>\n",
       "      <th>program_id</th>\n",
       "    </tr>\n",
       "  </thead>\n",
       "  <tbody>\n",
       "    <tr>\n",
       "      <th>2019-08-20 09:40:28</th>\n",
       "      <td>3-sql/1-mysql-overview</td>\n",
       "      <td>470</td>\n",
       "      <td>34</td>\n",
       "      <td>97.105.19.58</td>\n",
       "      <td>971051958</td>\n",
       "      <td>Bayes</td>\n",
       "      <td>2019-08-19</td>\n",
       "      <td>2020-01-30</td>\n",
       "      <td>3.0</td>\n",
       "    </tr>\n",
       "    <tr>\n",
       "      <th>2019-08-20 09:40:30</th>\n",
       "      <td>2-storytelling/bad-charts</td>\n",
       "      <td>467</td>\n",
       "      <td>34</td>\n",
       "      <td>97.105.19.58</td>\n",
       "      <td>971051958</td>\n",
       "      <td>Bayes</td>\n",
       "      <td>2019-08-19</td>\n",
       "      <td>2020-01-30</td>\n",
       "      <td>3.0</td>\n",
       "    </tr>\n",
       "    <tr>\n",
       "      <th>2019-08-20 09:41:02</th>\n",
       "      <td>1-fundamentals/1.1-intro-to-data-science</td>\n",
       "      <td>469</td>\n",
       "      <td>34</td>\n",
       "      <td>97.105.19.58</td>\n",
       "      <td>971051958</td>\n",
       "      <td>Bayes</td>\n",
       "      <td>2019-08-19</td>\n",
       "      <td>2020-01-30</td>\n",
       "      <td>3.0</td>\n",
       "    </tr>\n",
       "    <tr>\n",
       "      <th>2019-08-20 09:41:28</th>\n",
       "      <td>1-fundamentals/1.1-intro-to-data-science</td>\n",
       "      <td>480</td>\n",
       "      <td>34</td>\n",
       "      <td>97.105.19.58</td>\n",
       "      <td>971051958</td>\n",
       "      <td>Bayes</td>\n",
       "      <td>2019-08-19</td>\n",
       "      <td>2020-01-30</td>\n",
       "      <td>3.0</td>\n",
       "    </tr>\n",
       "    <tr>\n",
       "      <th>2019-08-20 09:41:36</th>\n",
       "      <td>1-fundamentals/1.1-intro-to-data-science</td>\n",
       "      <td>482</td>\n",
       "      <td>34</td>\n",
       "      <td>97.105.19.58</td>\n",
       "      <td>971051958</td>\n",
       "      <td>Bayes</td>\n",
       "      <td>2019-08-19</td>\n",
       "      <td>2020-01-30</td>\n",
       "      <td>3.0</td>\n",
       "    </tr>\n",
       "  </tbody>\n",
       "</table>\n",
       "</div>"
      ],
      "text/plain": [
       "                                                  page_viewed  user_id  \\\n",
       "2019-08-20 09:40:28                    3-sql/1-mysql-overview      470   \n",
       "2019-08-20 09:40:30                 2-storytelling/bad-charts      467   \n",
       "2019-08-20 09:41:02  1-fundamentals/1.1-intro-to-data-science      469   \n",
       "2019-08-20 09:41:28  1-fundamentals/1.1-intro-to-data-science      480   \n",
       "2019-08-20 09:41:36  1-fundamentals/1.1-intro-to-data-science      482   \n",
       "\n",
       "                     cohort_id            ip     ip_int cohort_name  \\\n",
       "2019-08-20 09:40:28         34  97.105.19.58  971051958       Bayes   \n",
       "2019-08-20 09:40:30         34  97.105.19.58  971051958       Bayes   \n",
       "2019-08-20 09:41:02         34  97.105.19.58  971051958       Bayes   \n",
       "2019-08-20 09:41:28         34  97.105.19.58  971051958       Bayes   \n",
       "2019-08-20 09:41:36         34  97.105.19.58  971051958       Bayes   \n",
       "\n",
       "                    start_date   end_date  program_id  \n",
       "2019-08-20 09:40:28 2019-08-19 2020-01-30         3.0  \n",
       "2019-08-20 09:40:30 2019-08-19 2020-01-30         3.0  \n",
       "2019-08-20 09:41:02 2019-08-19 2020-01-30         3.0  \n",
       "2019-08-20 09:41:28 2019-08-19 2020-01-30         3.0  \n",
       "2019-08-20 09:41:36 2019-08-19 2020-01-30         3.0  "
      ]
     },
     "execution_count": 13,
     "metadata": {},
     "output_type": "execute_result"
    }
   ],
   "source": [
    "DS.head()"
   ]
  },
  {
   "cell_type": "markdown",
   "metadata": {},
   "source": [
    "### 1. Which lesson appears to attract the most traffic consistently across cohorts (per program)?"
   ]
  },
  {
   "cell_type": "markdown",
   "metadata": {},
   "source": [
    "### 1. Web Development"
   ]
  },
  {
   "cell_type": "code",
   "execution_count": 14,
   "metadata": {},
   "outputs": [
    {
     "data": {
      "text/html": [
       "<div>\n",
       "<style scoped>\n",
       "    .dataframe tbody tr th:only-of-type {\n",
       "        vertical-align: middle;\n",
       "    }\n",
       "\n",
       "    .dataframe tbody tr th {\n",
       "        vertical-align: top;\n",
       "    }\n",
       "\n",
       "    .dataframe thead th {\n",
       "        text-align: right;\n",
       "    }\n",
       "</style>\n",
       "<table border=\"1\" class=\"dataframe\">\n",
       "  <thead>\n",
       "    <tr style=\"text-align: right;\">\n",
       "      <th></th>\n",
       "      <th>count</th>\n",
       "    </tr>\n",
       "  </thead>\n",
       "  <tbody>\n",
       "    <tr>\n",
       "      <th>javascript-i</th>\n",
       "      <td>13278</td>\n",
       "    </tr>\n",
       "    <tr>\n",
       "      <th>java-iii</th>\n",
       "      <td>9923</td>\n",
       "    </tr>\n",
       "    <tr>\n",
       "      <th>html-css</th>\n",
       "      <td>9811</td>\n",
       "    </tr>\n",
       "    <tr>\n",
       "      <th>java-ii</th>\n",
       "      <td>9486</td>\n",
       "    </tr>\n",
       "    <tr>\n",
       "      <th>spring</th>\n",
       "      <td>8995</td>\n",
       "    </tr>\n",
       "  </tbody>\n",
       "</table>\n",
       "</div>"
      ],
      "text/plain": [
       "              count\n",
       "javascript-i  13278\n",
       "java-iii       9923\n",
       "html-css       9811\n",
       "java-ii        9486\n",
       "spring         8995"
      ]
     },
     "execution_count": 14,
     "metadata": {},
     "output_type": "execute_result"
    }
   ],
   "source": [
    "# Pages with most traffic\n",
    "pd.DataFrame(WD.page_viewed.value_counts().head()).rename(columns={'page_viewed':'count'})"
   ]
  },
  {
   "cell_type": "code",
   "execution_count": 15,
   "metadata": {},
   "outputs": [
    {
     "data": {
      "text/plain": [
       "Text(0, 0.5, 'Number of Page Visits')"
      ]
     },
     "execution_count": 15,
     "metadata": {},
     "output_type": "execute_result"
    },
    {
     "data": {
      "image/png": "[encoded data removed]",
      "text/plain": [
       "<Figure size 1080x720 with 1 Axes>"
      ]
     },
     "metadata": {
      "needs_background": "light"
     },
     "output_type": "display_data"
    }
   ],
   "source": [
    "plt.figure(figsize=(15,10))\n",
    "WD[WD.page_viewed == 'javascript-i'].page_viewed.resample('Q').count().plot()\n",
    "WD[WD.page_viewed == 'java-iii'].page_viewed.resample('Q').count().plot()\n",
    "WD[WD.page_viewed == 'html-css'].page_viewed.resample('Q').count().plot()\n",
    "WD[WD.page_viewed == 'java-ii'].page_viewed.resample('Q').count().plot()\n",
    "WD[WD.page_viewed == 'spring'].page_viewed.resample('Q').count().plot()\n",
    "plt.legend(labels = ['javascript-i', 'java-iii', 'html-css', 'java-ii', 'spring'])\n",
    "plt.title('Most Trafficed Curriculum Webpages by Web Development Students Over Time')\n",
    "plt.xlabel('Date')\n",
    "plt.ylabel('Number of Page Visits')"
   ]
  },
  {
   "cell_type": "markdown",
   "metadata": {},
   "source": [
    "### 1. Data Science"
   ]
  },
  {
   "cell_type": "code",
   "execution_count": 16,
   "metadata": {},
   "outputs": [
    {
     "data": {
      "text/html": [
       "<div>\n",
       "<style scoped>\n",
       "    .dataframe tbody tr th:only-of-type {\n",
       "        vertical-align: middle;\n",
       "    }\n",
       "\n",
       "    .dataframe tbody tr th {\n",
       "        vertical-align: top;\n",
       "    }\n",
       "\n",
       "    .dataframe thead th {\n",
       "        text-align: right;\n",
       "    }\n",
       "</style>\n",
       "<table border=\"1\" class=\"dataframe\">\n",
       "  <thead>\n",
       "    <tr style=\"text-align: right;\">\n",
       "      <th></th>\n",
       "      <th>count</th>\n",
       "    </tr>\n",
       "  </thead>\n",
       "  <tbody>\n",
       "    <tr>\n",
       "      <th>1-fundamentals/1.1-intro-to-data-science</th>\n",
       "      <td>1536</td>\n",
       "    </tr>\n",
       "    <tr>\n",
       "      <th>6-regression/1-overview</th>\n",
       "      <td>1123</td>\n",
       "    </tr>\n",
       "    <tr>\n",
       "      <th>classification/overview</th>\n",
       "      <td>860</td>\n",
       "    </tr>\n",
       "    <tr>\n",
       "      <th>10-anomaly-detection/1-overview</th>\n",
       "      <td>742</td>\n",
       "    </tr>\n",
       "    <tr>\n",
       "      <th>3-sql/1-mysql-overview</th>\n",
       "      <td>704</td>\n",
       "    </tr>\n",
       "  </tbody>\n",
       "</table>\n",
       "</div>"
      ],
      "text/plain": [
       "                                          count\n",
       "1-fundamentals/1.1-intro-to-data-science   1536\n",
       "6-regression/1-overview                    1123\n",
       "classification/overview                     860\n",
       "10-anomaly-detection/1-overview             742\n",
       "3-sql/1-mysql-overview                      704"
      ]
     },
     "execution_count": 16,
     "metadata": {},
     "output_type": "execute_result"
    }
   ],
   "source": [
    "# Pages with most traffic\n",
    "pd.DataFrame(DS.page_viewed.value_counts().head()).rename(columns={'page_viewed':'count'})"
   ]
  },
  {
   "cell_type": "code",
   "execution_count": 17,
   "metadata": {},
   "outputs": [
    {
     "data": {
      "text/plain": [
       "Text(0, 0.5, 'Number of Page Visits')"
      ]
     },
     "execution_count": 17,
     "metadata": {},
     "output_type": "execute_result"
    },
    {
     "data": {
      "image/png": "[encoded data removed]",
      "text/plain": [
       "<Figure size 1080x720 with 1 Axes>"
      ]
     },
     "metadata": {
      "needs_background": "light"
     },
     "output_type": "display_data"
    }
   ],
   "source": [
    "plt.figure(figsize=(15,10))\n",
    "DS[DS.page_viewed == '1-fundamentals/1.1-intro-to-data-science'].page_viewed.resample('Q').count().plot()\n",
    "DS[DS.page_viewed == '6-regression/1-overview'].page_viewed.resample('Q').count().plot()\n",
    "DS[DS.page_viewed == 'classification/overview'].page_viewed.resample('Q').count().plot()\n",
    "DS[DS.page_viewed == '10-anomaly-detection/1-overview'].page_viewed.resample('Q').count().plot()\n",
    "DS[DS.page_viewed == '3-sql/1-mysql-overview'].page_viewed.resample('Q').count().plot()\n",
    "plt.legend(labels = ['fundamentals intro', 'regression overview', 'classification overview', 'anomaly overview', 'mysql overview'])\n",
    "plt.title('Most Trafficed Curriclum Webpages by Data Science Students Over Time')\n",
    "plt.xlabel('Date')\n",
    "plt.ylabel('Number of Page Visits')"
   ]
  },
  {
   "cell_type": "markdown",
   "metadata": {},
   "source": [
    "### Answer: \n",
    "   - WD: javascript-i\n",
    "   - DS: 1-fundamentals/1.1-intro-to-data-science"
   ]
  },
  {
   "cell_type": "markdown",
   "metadata": {},
   "source": [
    "### 2.\tIs there a cohort that referred to a lesson significantly more that other cohorts seemed to gloss over? "
   ]
  },
  {
   "cell_type": "markdown",
   "metadata": {},
   "source": [
    "### 2. Web Development"
   ]
  },
  {
   "cell_type": "code",
   "execution_count": 18,
   "metadata": {},
   "outputs": [
    {
     "data": {
      "text/html": [
       "<div>\n",
       "<style scoped>\n",
       "    .dataframe tbody tr th:only-of-type {\n",
       "        vertical-align: middle;\n",
       "    }\n",
       "\n",
       "    .dataframe tbody tr th {\n",
       "        vertical-align: top;\n",
       "    }\n",
       "\n",
       "    .dataframe thead th {\n",
       "        text-align: right;\n",
       "    }\n",
       "</style>\n",
       "<table border=\"1\" class=\"dataframe\">\n",
       "  <thead>\n",
       "    <tr style=\"text-align: right;\">\n",
       "      <th></th>\n",
       "      <th></th>\n",
       "      <th>page_viewed</th>\n",
       "    </tr>\n",
       "    <tr>\n",
       "      <th>cohort_name</th>\n",
       "      <th>page_viewed</th>\n",
       "      <th></th>\n",
       "    </tr>\n",
       "  </thead>\n",
       "  <tbody>\n",
       "    <tr>\n",
       "      <th>Ceres</th>\n",
       "      <th>javascript-i</th>\n",
       "      <td>977</td>\n",
       "    </tr>\n",
       "    <tr>\n",
       "      <th>Hyperion</th>\n",
       "      <th>javascript-i</th>\n",
       "      <td>884</td>\n",
       "    </tr>\n",
       "    <tr>\n",
       "      <th>Voyageurs</th>\n",
       "      <th>javascript-i</th>\n",
       "      <td>884</td>\n",
       "    </tr>\n",
       "    <tr>\n",
       "      <th>Lassen</th>\n",
       "      <th>index.html</th>\n",
       "      <td>877</td>\n",
       "    </tr>\n",
       "    <tr>\n",
       "      <th>Zion</th>\n",
       "      <th>javascript-i</th>\n",
       "      <td>868</td>\n",
       "    </tr>\n",
       "  </tbody>\n",
       "</table>\n",
       "</div>"
      ],
      "text/plain": [
       "                          page_viewed\n",
       "cohort_name page_viewed              \n",
       "Ceres       javascript-i          977\n",
       "Hyperion    javascript-i          884\n",
       "Voyageurs   javascript-i          884\n",
       "Lassen      index.html            877\n",
       "Zion        javascript-i          868"
      ]
     },
     "execution_count": 18,
     "metadata": {},
     "output_type": "execute_result"
    }
   ],
   "source": [
    "# Web Development cohorts that referred to a given lesson significantly more \n",
    "pd.DataFrame(WD.groupby('cohort_name').page_viewed.value_counts().sort_values(ascending=False).head())"
   ]
  },
  {
   "cell_type": "markdown",
   "metadata": {},
   "source": [
    "### 2. Data Science"
   ]
  },
  {
   "cell_type": "code",
   "execution_count": 19,
   "metadata": {},
   "outputs": [
    {
     "data": {
      "text/html": [
       "<div>\n",
       "<style scoped>\n",
       "    .dataframe tbody tr th:only-of-type {\n",
       "        vertical-align: middle;\n",
       "    }\n",
       "\n",
       "    .dataframe tbody tr th {\n",
       "        vertical-align: top;\n",
       "    }\n",
       "\n",
       "    .dataframe thead th {\n",
       "        text-align: right;\n",
       "    }\n",
       "</style>\n",
       "<table border=\"1\" class=\"dataframe\">\n",
       "  <thead>\n",
       "    <tr style=\"text-align: right;\">\n",
       "      <th></th>\n",
       "      <th></th>\n",
       "      <th>page_viewed</th>\n",
       "    </tr>\n",
       "    <tr>\n",
       "      <th>cohort_name</th>\n",
       "      <th>page_viewed</th>\n",
       "      <th></th>\n",
       "    </tr>\n",
       "  </thead>\n",
       "  <tbody>\n",
       "    <tr>\n",
       "      <th>Darden</th>\n",
       "      <th>classification/overview</th>\n",
       "      <td>759</td>\n",
       "    </tr>\n",
       "    <tr>\n",
       "      <th>Bayes</th>\n",
       "      <th>1-fundamentals/1.1-intro-to-data-science</th>\n",
       "      <td>615</td>\n",
       "    </tr>\n",
       "    <tr>\n",
       "      <th>Curie</th>\n",
       "      <th>6-regression/1-overview</th>\n",
       "      <td>595</td>\n",
       "    </tr>\n",
       "    <tr>\n",
       "      <th>Darden</th>\n",
       "      <th>classification/scale_features_or_not.svg</th>\n",
       "      <td>590</td>\n",
       "    </tr>\n",
       "    <tr>\n",
       "      <th>Bayes</th>\n",
       "      <th>6-regression/1-overview</th>\n",
       "      <td>521</td>\n",
       "    </tr>\n",
       "  </tbody>\n",
       "</table>\n",
       "</div>"
      ],
      "text/plain": [
       "                                                      page_viewed\n",
       "cohort_name page_viewed                                          \n",
       "Darden      classification/overview                           759\n",
       "Bayes       1-fundamentals/1.1-intro-to-data-science          615\n",
       "Curie       6-regression/1-overview                           595\n",
       "Darden      classification/scale_features_or_not.svg          590\n",
       "Bayes       6-regression/1-overview                           521"
      ]
     },
     "execution_count": 19,
     "metadata": {},
     "output_type": "execute_result"
    }
   ],
   "source": [
    "# Data Science cohorts that referred to a given lesson significantly more\n",
    "pd.DataFrame(DS.groupby('cohort_name').page_viewed.value_counts().sort_values(ascending=False).head())"
   ]
  },
  {
   "cell_type": "markdown",
   "metadata": {},
   "source": [
    "### Answer: \n",
    "\n",
    "Top 3 Web Development Cohorts with 'javascript-i' searches \n",
    "- Ceres, Hyperion, and Voyageurs\t\n",
    "\n",
    "Top 3 Data Science Cohorts with various searches \n",
    "- Darden, Bayes, and Curie\t"
   ]
  },
  {
   "cell_type": "markdown",
   "metadata": {},
   "source": [
    "### 3.\tAre there students who, when active, hardly access the curriculum? If so, what information do you have about these students? "
   ]
  },
  {
   "cell_type": "markdown",
   "metadata": {},
   "source": [
    "### 3. Web Development"
   ]
  },
  {
   "cell_type": "code",
   "execution_count": 20,
   "metadata": {},
   "outputs": [],
   "source": [
    "# Filter dataframe for the time when student were 'active' for each program\n",
    "active_WD = WD.loc[(WD.index >= WD.start_date) & (WD.index <= WD.end_date)]\n",
    "active_DS = DS.loc[(DS.index >= DS.start_date) & (DS.index <= DS.end_date)]"
   ]
  },
  {
   "cell_type": "code",
   "execution_count": 21,
   "metadata": {},
   "outputs": [
    {
     "data": {
      "text/plain": [
       "user_id\n",
       "278     3\n",
       "539     3\n",
       "388     7\n",
       "572    11\n",
       "340    13\n",
       "64     13\n",
       "24     17\n",
       "49     20\n",
       "41     22\n",
       "772    24\n",
       "dtype: int64"
      ]
     },
     "execution_count": 21,
     "metadata": {},
     "output_type": "execute_result"
    }
   ],
   "source": [
    "# WD users with lowest page count\n",
    "hardly_access_WD = active_WD.groupby('user_id').size().sort_values().head(10)\n",
    "hardly_access_WD"
   ]
  },
  {
   "cell_type": "markdown",
   "metadata": {},
   "source": [
    "### 3. Data Science"
   ]
  },
  {
   "cell_type": "code",
   "execution_count": 22,
   "metadata": {},
   "outputs": [
    {
     "data": {
      "text/plain": [
       "user_id\n",
       "679      4\n",
       "697      7\n",
       "785     28\n",
       "780     41\n",
       "783     50\n",
       "781     79\n",
       "683    102\n",
       "577    190\n",
       "693    284\n",
       "477    327\n",
       "dtype: int64"
      ]
     },
     "execution_count": 22,
     "metadata": {},
     "output_type": "execute_result"
    }
   ],
   "source": [
    "# DS users with lowest page count\n",
    "hardly_access_DS = active_DS.groupby('user_id').size().sort_values().head(10)\n",
    "hardly_access_DS"
   ]
  },
  {
   "cell_type": "markdown",
   "metadata": {},
   "source": [
    "### Answer: \n",
    "- WD: Users ids who were least active while enrolled (278, 539, 388)\n",
    "- DS: Users ids who were least active while enrolled (679, 697, 785)"
   ]
  },
  {
   "cell_type": "markdown",
   "metadata": {},
   "source": [
    "### 4.\tIs there any suspicious activity, such as users/machines/etc accessing the curriculum who shouldn’t be? Does it appear that any web-scraping is happening? Are there any suspicious IP addresses? Any odd user-agents? "
   ]
  },
  {
   "cell_type": "markdown",
   "metadata": {},
   "source": [
    "### Web Development"
   ]
  },
  {
   "cell_type": "code",
   "execution_count": 23,
   "metadata": {},
   "outputs": [],
   "source": [
    "import requests"
   ]
  },
  {
   "cell_type": "code",
   "execution_count": 24,
   "metadata": {},
   "outputs": [
    {
     "data": {
      "text/plain": [
       "3787"
      ]
     },
     "execution_count": 24,
     "metadata": {},
     "output_type": "execute_result"
    }
   ],
   "source": [
    "df_suspcious_users = df_merged.copy()\n",
    "\n",
    "ip_count = df_suspcious_users.ip.nunique()\n",
    "ip_count"
   ]
  },
  {
   "cell_type": "code",
   "execution_count": 25,
   "metadata": {},
   "outputs": [
    {
     "data": {
      "text/html": [
       "<div>\n",
       "<style scoped>\n",
       "    .dataframe tbody tr th:only-of-type {\n",
       "        vertical-align: middle;\n",
       "    }\n",
       "\n",
       "    .dataframe tbody tr th {\n",
       "        vertical-align: top;\n",
       "    }\n",
       "\n",
       "    .dataframe thead th {\n",
       "        text-align: right;\n",
       "    }\n",
       "</style>\n",
       "<table border=\"1\" class=\"dataframe\">\n",
       "  <thead>\n",
       "    <tr style=\"text-align: right;\">\n",
       "      <th></th>\n",
       "      <th>page_viewed</th>\n",
       "      <th>user_id</th>\n",
       "      <th>cohort_id</th>\n",
       "      <th>ip</th>\n",
       "      <th>ip_int</th>\n",
       "      <th>cohort_name</th>\n",
       "      <th>start_date</th>\n",
       "      <th>end_date</th>\n",
       "      <th>program_id</th>\n",
       "    </tr>\n",
       "  </thead>\n",
       "  <tbody>\n",
       "    <tr>\n",
       "      <th>2020-11-02 16:48:13</th>\n",
       "      <td>javascript-i/coffee-project</td>\n",
       "      <td>763</td>\n",
       "      <td>62</td>\n",
       "      <td>107.192.148.199</td>\n",
       "      <td>107192148199</td>\n",
       "      <td>Jupiter</td>\n",
       "      <td>2020-09-21</td>\n",
       "      <td>2021-03-30</td>\n",
       "      <td>2.0</td>\n",
       "    </tr>\n",
       "    <tr>\n",
       "      <th>2020-11-02 16:48:17</th>\n",
       "      <td>javascript-i/mapbox-api</td>\n",
       "      <td>771</td>\n",
       "      <td>62</td>\n",
       "      <td>172.125.226.175</td>\n",
       "      <td>172125226175</td>\n",
       "      <td>Jupiter</td>\n",
       "      <td>2020-09-21</td>\n",
       "      <td>2021-03-30</td>\n",
       "      <td>2.0</td>\n",
       "    </tr>\n",
       "    <tr>\n",
       "      <th>2020-11-02 16:48:18</th>\n",
       "      <td>javascript-i/coffee-project</td>\n",
       "      <td>771</td>\n",
       "      <td>62</td>\n",
       "      <td>172.125.226.175</td>\n",
       "      <td>172125226175</td>\n",
       "      <td>Jupiter</td>\n",
       "      <td>2020-09-21</td>\n",
       "      <td>2021-03-30</td>\n",
       "      <td>2.0</td>\n",
       "    </tr>\n",
       "    <tr>\n",
       "      <th>2020-11-02 16:48:28</th>\n",
       "      <td>javascript-i/bom-and-dom/bom</td>\n",
       "      <td>771</td>\n",
       "      <td>62</td>\n",
       "      <td>172.125.226.175</td>\n",
       "      <td>172125226175</td>\n",
       "      <td>Jupiter</td>\n",
       "      <td>2020-09-21</td>\n",
       "      <td>2021-03-30</td>\n",
       "      <td>2.0</td>\n",
       "    </tr>\n",
       "    <tr>\n",
       "      <th>2020-11-02 16:48:47</th>\n",
       "      <td>javascript-i/bom-and-dom/bom</td>\n",
       "      <td>763</td>\n",
       "      <td>62</td>\n",
       "      <td>107.192.148.199</td>\n",
       "      <td>107192148199</td>\n",
       "      <td>Jupiter</td>\n",
       "      <td>2020-09-21</td>\n",
       "      <td>2021-03-30</td>\n",
       "      <td>2.0</td>\n",
       "    </tr>\n",
       "  </tbody>\n",
       "</table>\n",
       "</div>"
      ],
      "text/plain": [
       "                                      page_viewed  user_id  cohort_id  \\\n",
       "2020-11-02 16:48:13   javascript-i/coffee-project      763         62   \n",
       "2020-11-02 16:48:17       javascript-i/mapbox-api      771         62   \n",
       "2020-11-02 16:48:18   javascript-i/coffee-project      771         62   \n",
       "2020-11-02 16:48:28  javascript-i/bom-and-dom/bom      771         62   \n",
       "2020-11-02 16:48:47  javascript-i/bom-and-dom/bom      763         62   \n",
       "\n",
       "                                  ip        ip_int cohort_name start_date  \\\n",
       "2020-11-02 16:48:13  107.192.148.199  107192148199     Jupiter 2020-09-21   \n",
       "2020-11-02 16:48:17  172.125.226.175  172125226175     Jupiter 2020-09-21   \n",
       "2020-11-02 16:48:18  172.125.226.175  172125226175     Jupiter 2020-09-21   \n",
       "2020-11-02 16:48:28  172.125.226.175  172125226175     Jupiter 2020-09-21   \n",
       "2020-11-02 16:48:47  107.192.148.199  107192148199     Jupiter 2020-09-21   \n",
       "\n",
       "                      end_date  program_id  \n",
       "2020-11-02 16:48:13 2021-03-30         2.0  \n",
       "2020-11-02 16:48:17 2021-03-30         2.0  \n",
       "2020-11-02 16:48:18 2021-03-30         2.0  \n",
       "2020-11-02 16:48:28 2021-03-30         2.0  \n",
       "2020-11-02 16:48:47 2021-03-30         2.0  "
      ]
     },
     "execution_count": 25,
     "metadata": {},
     "output_type": "execute_result"
    }
   ],
   "source": [
    "df_suspcious_users.tail()"
   ]
  },
  {
   "cell_type": "code",
   "execution_count": 26,
   "metadata": {},
   "outputs": [
    {
     "data": {
      "text/plain": [
       "'success,United States,US,TX,Texas,San Antonio,78201,29.4698,-98.5357,America/Chicago,\"AT&T Services, Inc.\",AT&T Corp,\"AS7018 AT&T Services, Inc.\",107.192.148.199\\n'"
      ]
     },
     "execution_count": 26,
     "metadata": {},
     "output_type": "execute_result"
    }
   ],
   "source": [
    "url = 'http://ip-api.com/csv/107.192.148.199'\n",
    "response = requests.get(url)\n",
    "location = response.text\n",
    "location"
   ]
  },
  {
   "cell_type": "code",
   "execution_count": 27,
   "metadata": {},
   "outputs": [
    {
     "data": {
      "text/plain": [
       "'success,China,CN,JS,Jiangsu,Xuzhou,,34.1534,117.178,Asia/Shanghai,CHINANET jiangsu province network,,AS4134 CHINANET-BACKBONE,221.229.204.176\\n'"
      ]
     },
     "execution_count": 27,
     "metadata": {},
     "output_type": "execute_result"
    }
   ],
   "source": [
    "url = 'http://ip-api.com/csv/221.229.204.176'\n",
    "response = requests.get(url)\n",
    "location = response.text\n",
    "location"
   ]
  },
  {
   "cell_type": "markdown",
   "metadata": {},
   "source": [
    "### Answer: \n",
    "- Suspicious IP from China"
   ]
  },
  {
   "cell_type": "markdown",
   "metadata": {},
   "source": [
    "### 5.\tAt some point in the last year, ability for students and alumni to cross-access curriculum (web dev to ds, ds to web dev) should have been shut off. Do you see any evidence of that happening? Did it happen before? "
   ]
  },
  {
   "cell_type": "code",
   "execution_count": 28,
   "metadata": {},
   "outputs": [
    {
     "data": {
      "text/plain": [
       "1714"
      ]
     },
     "execution_count": 28,
     "metadata": {},
     "output_type": "execute_result"
    }
   ],
   "source": [
    "# Number of cross-accessed pages in the last year\n",
    "df_merged[2020:].groupby('page_viewed').size().index.isin(df_merged[2020:].groupby('page_viewed').size().index).sum()"
   ]
  },
  {
   "cell_type": "code",
   "execution_count": 29,
   "metadata": {},
   "outputs": [],
   "source": [
    "# Unique pages in a list of WD and DS\n",
    "WD_users = list(WD.user_id.unique())\n",
    "DS_users = list(DS.user_id.unique())"
   ]
  },
  {
   "cell_type": "code",
   "execution_count": 30,
   "metadata": {},
   "outputs": [
    {
     "data": {
      "text/html": [
       "<div>\n",
       "<style scoped>\n",
       "    .dataframe tbody tr th:only-of-type {\n",
       "        vertical-align: middle;\n",
       "    }\n",
       "\n",
       "    .dataframe tbody tr th {\n",
       "        vertical-align: top;\n",
       "    }\n",
       "\n",
       "    .dataframe thead th {\n",
       "        text-align: right;\n",
       "    }\n",
       "</style>\n",
       "<table border=\"1\" class=\"dataframe\">\n",
       "  <thead>\n",
       "    <tr style=\"text-align: right;\">\n",
       "      <th></th>\n",
       "      <th>page_viewed</th>\n",
       "      <th>user_id</th>\n",
       "      <th>cohort_id</th>\n",
       "      <th>ip</th>\n",
       "      <th>ip_int</th>\n",
       "      <th>cohort_name</th>\n",
       "      <th>start_date</th>\n",
       "      <th>end_date</th>\n",
       "      <th>program_id</th>\n",
       "    </tr>\n",
       "  </thead>\n",
       "  <tbody>\n",
       "    <tr>\n",
       "      <th>2018-01-31 01:44:14</th>\n",
       "      <td>javascript-ii</td>\n",
       "      <td>42</td>\n",
       "      <td>21</td>\n",
       "      <td>72.181.118.217</td>\n",
       "      <td>72181118217</td>\n",
       "      <td>Sequoia</td>\n",
       "      <td>2017-09-27</td>\n",
       "      <td>2018-02-15</td>\n",
       "      <td>2.0</td>\n",
       "    </tr>\n",
       "    <tr>\n",
       "      <th>2018-01-31 01:44:44</th>\n",
       "      <td>git/cli</td>\n",
       "      <td>42</td>\n",
       "      <td>21</td>\n",
       "      <td>72.181.118.217</td>\n",
       "      <td>72181118217</td>\n",
       "      <td>Sequoia</td>\n",
       "      <td>2017-09-27</td>\n",
       "      <td>2018-02-15</td>\n",
       "      <td>2.0</td>\n",
       "    </tr>\n",
       "    <tr>\n",
       "      <th>2018-01-31 06:43:35</th>\n",
       "      <td>javascript-i</td>\n",
       "      <td>25</td>\n",
       "      <td>22</td>\n",
       "      <td>97.105.19.61</td>\n",
       "      <td>971051961</td>\n",
       "      <td>Teddy</td>\n",
       "      <td>2018-01-08</td>\n",
       "      <td>2018-05-17</td>\n",
       "      <td>2.0</td>\n",
       "    </tr>\n",
       "    <tr>\n",
       "      <th>2018-01-31 07:40:41</th>\n",
       "      <td>javascript-i</td>\n",
       "      <td>74</td>\n",
       "      <td>0</td>\n",
       "      <td>70.117.6.133</td>\n",
       "      <td>701176133</td>\n",
       "      <td>NaN</td>\n",
       "      <td>NaT</td>\n",
       "      <td>NaT</td>\n",
       "      <td>NaN</td>\n",
       "    </tr>\n",
       "    <tr>\n",
       "      <th>2018-01-31 07:54:22</th>\n",
       "      <td>javascript-i/conditionals</td>\n",
       "      <td>3</td>\n",
       "      <td>22</td>\n",
       "      <td>72.191.29.130</td>\n",
       "      <td>7219129130</td>\n",
       "      <td>Teddy</td>\n",
       "      <td>2018-01-08</td>\n",
       "      <td>2018-05-17</td>\n",
       "      <td>2.0</td>\n",
       "    </tr>\n",
       "    <tr>\n",
       "      <th>...</th>\n",
       "      <td>...</td>\n",
       "      <td>...</td>\n",
       "      <td>...</td>\n",
       "      <td>...</td>\n",
       "      <td>...</td>\n",
       "      <td>...</td>\n",
       "      <td>...</td>\n",
       "      <td>...</td>\n",
       "      <td>...</td>\n",
       "    </tr>\n",
       "    <tr>\n",
       "      <th>2020-11-02 16:13:52</th>\n",
       "      <td>java-iii</td>\n",
       "      <td>747</td>\n",
       "      <td>61</td>\n",
       "      <td>70.125.129.102</td>\n",
       "      <td>70125129102</td>\n",
       "      <td>Bash</td>\n",
       "      <td>2020-07-20</td>\n",
       "      <td>2021-01-21</td>\n",
       "      <td>2.0</td>\n",
       "    </tr>\n",
       "    <tr>\n",
       "      <th>2020-11-02 16:18:30</th>\n",
       "      <td>spring</td>\n",
       "      <td>733</td>\n",
       "      <td>61</td>\n",
       "      <td>107.77.220.169</td>\n",
       "      <td>10777220169</td>\n",
       "      <td>Bash</td>\n",
       "      <td>2020-07-20</td>\n",
       "      <td>2021-01-21</td>\n",
       "      <td>2.0</td>\n",
       "    </tr>\n",
       "    <tr>\n",
       "      <th>2020-11-02 16:34:16</th>\n",
       "      <td>javascript-i/bom-and-dom/dom</td>\n",
       "      <td>773</td>\n",
       "      <td>62</td>\n",
       "      <td>70.121.201.159</td>\n",
       "      <td>70121201159</td>\n",
       "      <td>Jupiter</td>\n",
       "      <td>2020-09-21</td>\n",
       "      <td>2021-03-30</td>\n",
       "      <td>2.0</td>\n",
       "    </tr>\n",
       "    <tr>\n",
       "      <th>2020-11-02 16:47:42</th>\n",
       "      <td>jquery</td>\n",
       "      <td>771</td>\n",
       "      <td>62</td>\n",
       "      <td>172.125.226.175</td>\n",
       "      <td>172125226175</td>\n",
       "      <td>Jupiter</td>\n",
       "      <td>2020-09-21</td>\n",
       "      <td>2021-03-30</td>\n",
       "      <td>2.0</td>\n",
       "    </tr>\n",
       "    <tr>\n",
       "      <th>2020-11-02 16:48:08</th>\n",
       "      <td>javascript-i</td>\n",
       "      <td>771</td>\n",
       "      <td>62</td>\n",
       "      <td>172.125.226.175</td>\n",
       "      <td>172125226175</td>\n",
       "      <td>Jupiter</td>\n",
       "      <td>2020-09-21</td>\n",
       "      <td>2021-03-30</td>\n",
       "      <td>2.0</td>\n",
       "    </tr>\n",
       "  </tbody>\n",
       "</table>\n",
       "<p>166397 rows × 9 columns</p>\n",
       "</div>"
      ],
      "text/plain": [
       "                                      page_viewed  user_id  cohort_id  \\\n",
       "2018-01-31 01:44:14                 javascript-ii       42         21   \n",
       "2018-01-31 01:44:44                       git/cli       42         21   \n",
       "2018-01-31 06:43:35                  javascript-i       25         22   \n",
       "2018-01-31 07:40:41                  javascript-i       74          0   \n",
       "2018-01-31 07:54:22     javascript-i/conditionals        3         22   \n",
       "...                                           ...      ...        ...   \n",
       "2020-11-02 16:13:52                      java-iii      747         61   \n",
       "2020-11-02 16:18:30                        spring      733         61   \n",
       "2020-11-02 16:34:16  javascript-i/bom-and-dom/dom      773         62   \n",
       "2020-11-02 16:47:42                        jquery      771         62   \n",
       "2020-11-02 16:48:08                  javascript-i      771         62   \n",
       "\n",
       "                                  ip        ip_int cohort_name start_date  \\\n",
       "2018-01-31 01:44:14   72.181.118.217   72181118217     Sequoia 2017-09-27   \n",
       "2018-01-31 01:44:44   72.181.118.217   72181118217     Sequoia 2017-09-27   \n",
       "2018-01-31 06:43:35     97.105.19.61     971051961       Teddy 2018-01-08   \n",
       "2018-01-31 07:40:41     70.117.6.133     701176133         NaN        NaT   \n",
       "2018-01-31 07:54:22    72.191.29.130    7219129130       Teddy 2018-01-08   \n",
       "...                              ...           ...         ...        ...   \n",
       "2020-11-02 16:13:52   70.125.129.102   70125129102        Bash 2020-07-20   \n",
       "2020-11-02 16:18:30   107.77.220.169   10777220169        Bash 2020-07-20   \n",
       "2020-11-02 16:34:16   70.121.201.159   70121201159     Jupiter 2020-09-21   \n",
       "2020-11-02 16:47:42  172.125.226.175  172125226175     Jupiter 2020-09-21   \n",
       "2020-11-02 16:48:08  172.125.226.175  172125226175     Jupiter 2020-09-21   \n",
       "\n",
       "                      end_date  program_id  \n",
       "2018-01-31 01:44:14 2018-02-15         2.0  \n",
       "2018-01-31 01:44:44 2018-02-15         2.0  \n",
       "2018-01-31 06:43:35 2018-05-17         2.0  \n",
       "2018-01-31 07:40:41        NaT         NaN  \n",
       "2018-01-31 07:54:22 2018-05-17         2.0  \n",
       "...                        ...         ...  \n",
       "2020-11-02 16:13:52 2021-01-21         2.0  \n",
       "2020-11-02 16:18:30 2021-01-21         2.0  \n",
       "2020-11-02 16:34:16 2021-03-30         2.0  \n",
       "2020-11-02 16:47:42 2021-03-30         2.0  \n",
       "2020-11-02 16:48:08 2021-03-30         2.0  \n",
       "\n",
       "[166397 rows x 9 columns]"
      ]
     },
     "execution_count": 30,
     "metadata": {},
     "output_type": "execute_result"
    }
   ],
   "source": [
    "# All cross accessed observations\n",
    "cross_observations = df_merged[2020:][(df_merged[2020:].page_viewed.isin(WD[2020:].page_viewed)) & (df_merged[2020:].page_viewed.isin(DS[2020:].page_viewed))]\n",
    "cross_observations"
   ]
  },
  {
   "cell_type": "code",
   "execution_count": 31,
   "metadata": {},
   "outputs": [
    {
     "data": {
      "text/plain": [
       "Bayes         18048\n",
       "Darden        15975\n",
       "Curie         13196\n",
       "Ceres          8317\n",
       "Zion           8068\n",
       "Voyageurs      7931\n",
       "Fortuna        7436\n",
       "Hyperion       6622\n",
       "Xanadu         6603\n",
       "Apex           6490\n",
       "Ganymede       6423\n",
       "Deimos         6150\n",
       "Betelgeuse     6077\n",
       "Teddy          5836\n",
       "Ulysses        5180\n",
       "Andromeda      4907\n",
       "Europa         4853\n",
       "Wrangell       4806\n",
       "Yosemite       4039\n",
       "Lassen         2646\n",
       "Bash           2341\n",
       "Arches         2060\n",
       "Jupiter        1794\n",
       "Sequoia        1778\n",
       "Olympic         850\n",
       "Pinnacles       529\n",
       "Hampton         362\n",
       "Niagara         280\n",
       "Kings           189\n",
       "Quincy          119\n",
       "Glacier         111\n",
       "Mammoth         101\n",
       "Ike              91\n",
       "Joshua           20\n",
       "Franklin         20\n",
       "Badlands          6\n",
       "Name: cohort_name, dtype: int64"
      ]
     },
     "execution_count": 31,
     "metadata": {},
     "output_type": "execute_result"
    }
   ],
   "source": [
    "# Cohorts who cross accessed\n",
    "cross_observations.cohort_name.value_counts()"
   ]
  },
  {
   "cell_type": "markdown",
   "metadata": {},
   "source": [
    "### Answer: \n",
    "- Most cross observations from Bayes cohort"
   ]
  },
  {
   "cell_type": "markdown",
   "metadata": {},
   "source": [
    "### 6.\tWhat topics are grads continuing to reference after graduation and into their jobs (for each program)? "
   ]
  },
  {
   "cell_type": "code",
   "execution_count": 32,
   "metadata": {},
   "outputs": [],
   "source": [
    "# Filter dataframes for data points only after graduation date\n",
    "postgrad_access_wd = WD[(WD.index > WD.end_date)]\n",
    "postgrad_access_ds = DS[(DS.index > DS.end_date)]"
   ]
  },
  {
   "cell_type": "markdown",
   "metadata": {},
   "source": [
    "### 6. Web Development"
   ]
  },
  {
   "cell_type": "code",
   "execution_count": 33,
   "metadata": {},
   "outputs": [
    {
     "data": {
      "text/plain": [
       "javascript-i    2541\n",
       "spring          2458\n",
       "html-css        1952\n",
       "java-i          1905\n",
       "java-ii         1841\n",
       "Name: page_viewed, dtype: int64"
      ]
     },
     "execution_count": 33,
     "metadata": {},
     "output_type": "execute_result"
    }
   ],
   "source": [
    "postgrad_access_wd.page_viewed.value_counts().head()"
   ]
  },
  {
   "cell_type": "markdown",
   "metadata": {},
   "source": [
    "### 6. Data Science"
   ]
  },
  {
   "cell_type": "code",
   "execution_count": 34,
   "metadata": {},
   "outputs": [
    {
     "data": {
      "text/plain": [
       "6-regression/1-overview                     86\n",
       "10-anomaly-detection/1-overview             69\n",
       "fundamentals/intro-to-data-science          63\n",
       "3-sql/1-mysql-overview                      59\n",
       "classification/scale_features_or_not.svg    52\n",
       "Name: page_viewed, dtype: int64"
      ]
     },
     "execution_count": 34,
     "metadata": {},
     "output_type": "execute_result"
    }
   ],
   "source": [
    "postgrad_access_ds.page_viewed.value_counts()[3:8]"
   ]
  },
  {
   "cell_type": "markdown",
   "metadata": {},
   "source": [
    "### Answer: \n",
    "- WD: javascript-i, spring, and html-css\n",
    "- DS: regression, anomaly detection overview, and fundamentals intro "
   ]
  },
  {
   "cell_type": "markdown",
   "metadata": {},
   "source": [
    "### 7.\tWhich lessons are least accessed? "
   ]
  },
  {
   "cell_type": "markdown",
   "metadata": {},
   "source": [
    "### 7. Web Development"
   ]
  },
  {
   "cell_type": "code",
   "execution_count": 35,
   "metadata": {},
   "outputs": [
    {
     "data": {
      "text/plain": [
       "content/examples/php/arithmetic.php    1\n",
       "Clustering_Intro_Module                1\n",
       "stats/hypothesis-testing-overview      1\n",
       "datascience                            1\n",
       "annotations                            1\n",
       "Name: page_viewed, dtype: int64"
      ]
     },
     "execution_count": 35,
     "metadata": {},
     "output_type": "execute_result"
    }
   ],
   "source": [
    "WD.page_viewed.value_counts().tail()"
   ]
  },
  {
   "cell_type": "markdown",
   "metadata": {},
   "source": [
    "### 7. Data Science"
   ]
  },
  {
   "cell_type": "code",
   "execution_count": 36,
   "metadata": {},
   "outputs": [
    {
     "data": {
      "text/plain": [
       "index.html                                                     1\n",
       "anomaly-detection/time-series-anomaly-detection-part-1         1\n",
       "spring/extra-features/error-pages                              1\n",
       "Index.html                                                     1\n",
       "10-anomaly-detection/3-discrete-probabilistic-methods.ipynb    1\n",
       "Name: page_viewed, dtype: int64"
      ]
     },
     "execution_count": 36,
     "metadata": {},
     "output_type": "execute_result"
    }
   ],
   "source": [
    "DS.page_viewed.value_counts().tail()"
   ]
  },
  {
   "cell_type": "markdown",
   "metadata": {},
   "source": [
    "### Answer: \n",
    "- WD: wp-login, content/javascript/arrays, and login.aspx\n",
    "- DS: bad-charts, 2-storytelling, and itc%20-%20ml"
   ]
  },
  {
   "cell_type": "markdown",
   "metadata": {},
   "source": [
    "### 8.\tAnything else I should be aware of? "
   ]
  },
  {
   "cell_type": "markdown",
   "metadata": {},
   "source": [
    "### Answer: \n",
    "- Future investigation should be done on suspicious accounts from foreign countries"
   ]
  },
  {
   "cell_type": "markdown",
   "metadata": {},
   "source": [
    "# Summary"
   ]
  },
  {
   "cell_type": "markdown",
   "metadata": {},
   "source": [
    "#### 1.\tWhich lesson appears to attract the most traffic consistently across cohorts (per program)?\n",
    "   - WD: javascript-i\n",
    "   - DS: 1-fundamentals/1.1-intro-to-data-science\n",
    "\n",
    "#### 2.\tIs there a cohort that referred to a lesson significantly more that other cohorts seemed to gloss over? \n",
    "- WD: Top 3 Web Development Cohorts with 'javascript-i' searches \n",
    "    - Ceres, Hyperion, and Voyageurs\n",
    "\n",
    "- DS: Top 3 Data Science Cohorts with various searches\n",
    "    - Darden, Bayes, and Curie\n",
    "\n",
    "\n",
    "#### 3.\tAre there students who, when active, hardly access the curriculum? If so, what information do you have about these students? \n",
    "- WD: Users ids who were least active while enrolled (278, 539, 388)\n",
    "- DS: Users ids who were least active while enrolled (679, 697, 785)\n",
    "\n",
    "\n",
    "#### 4.\tIs there any suspicious activity, such as users/machines/etc accessing the curriculum who shouldn’t be? Does it appear that any web-scraping is happening? Are there any suspicious IP addresses? Any odd user-agents? \n",
    "\n",
    "- Suspicious IP from China\n",
    "\n",
    "#### 5.\tAt some point in the last year, ability for students and alumni to cross-access curriculum (web dev to ds, ds to web dev) should have been shut off. Do you see any evidence of that happening? Did it happen before? \n",
    "\n",
    "- Most cross observations from Bayes cohort\n",
    "\n",
    "#### 6.\tWhat topics are grads continuing to reference after graduation and into their jobs (for each program)? \n",
    "- WD: javascript-i, spring, and html-css\n",
    "- DS: regression, anomaly detection overview, and fundamentals intro \n",
    "\n",
    "\n",
    "#### 7.\tWhich lessons are least accessed? \n",
    "- WD: wp-login, content/javascript/arrays, and login.aspx\n",
    "- DS: bad-charts, 2-storytelling, and itc%20-%20ml\n",
    "\n",
    "\n",
    "#### 8.\tAnything else I should be aware of? \n",
    "- Future investigation should be done on suspicious accounts from foreign countries\n"
   ]
  }
 ],
 "metadata": {
  "kernelspec": {
   "display_name": "Python 3",
   "language": "python",
   "name": "python3"
  },
  "language_info": {
   "codemirror_mode": {
    "name": "ipython",
    "version": 3
   },
   "file_extension": ".py",
   "mimetype": "text/x-python",
   "name": "python",
   "nbconvert_exporter": "python",
   "pygments_lexer": "ipython3",
   "version": "3.7.6"
  }
 },
 "nbformat": 4,
 "nbformat_minor": 4
}
